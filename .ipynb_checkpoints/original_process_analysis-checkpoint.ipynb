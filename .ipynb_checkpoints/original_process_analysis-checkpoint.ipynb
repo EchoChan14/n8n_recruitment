
{
 "cells": [
  {
   "cell_type": "code",
   "execution_count": null,
   "id": "import-pandas",
   "metadata": {},
   "outputs": [],
   "source": [
    "import pandas as pd\n",
    "import matplotlib.pyplot as plt"
   ]
  },
  {
   "cell_type": "code",
   "execution_count": null,
   "id": "read-data",
   "metadata": {},
   "outputs": [],
   "source": [
    "# 讀取事件日誌資料\n",
    "df = pd.read_csv('simulated_resume_event_log.csv')\n",
    "df['timestamp'] = pd.to_datetime(df['timestamp'])\n",
    "df = df.sort_values(by=['resume_id', 'timestamp'])\n",
    "df['next_activity'] = df.groupby('resume_id')['activity'].shift(-1)\n",
    "df['next_timestamp'] = df.groupby('resume_id')['timestamp'].shift(-1)\n",
    "df['duration'] = (df['next_timestamp'] - df['timestamp']).dt.total_seconds()\n",
    "df_filtered = df.dropna(subset=['next_activity', 'duration'])"
   ]
  },
  {
   "cell_type": "code",
   "execution_count": null,
   "id": "calculate-avg",
   "metadata": {},
   "outputs": [],
   "source": [
    "# 計算平均耗時（以分鐘表示）\n",
    "avg_duration = df_filtered.groupby('activity')['duration'].mean().round(2)\n",
    "avg_duration_minutes = (avg_duration / 60).round(2).sort_values(ascending=False)\n",
    "avg_duration_minutes_df = avg_duration_minutes.reset_index()\n",
    "avg_duration_minutes_df.columns = ['activity', 'avg_duration_minutes']\n",
    "avg_duration_minutes_df"
   ]
  },
  {
   "cell_type": "code",
   "execution_count": null,
   "id": "plot-chart",
   "metadata": {},
   "outputs": [],
   "source": [
    "# 畫出平均耗時圖表\n",
    "plt.figure(figsize=(10, 6))\n",
    "avg_duration_minutes.plot(kind='bar', color='steelblue')\n",
    "plt.ylabel('Average Duration (minutes)')\n",
    "plt.title('Average Duration per Activity (Original Process)')\n",
    "plt.xticks(rotation=45, ha='right')\n",
    "plt.grid(axis='y')\n",
    "plt.tight_layout()\n",
    "plt.show()"
   ]
  }
 ],
 "metadata": {
  "kernelspec": {
   "display_name": "Python 3",
   "language": "python",
   "name": "python3"
  },
  "language_info": {
   "name": "python",
   "version": "3.11"
  }
 },
 "nbformat": 4,
 "nbformat_minor": 5
}
