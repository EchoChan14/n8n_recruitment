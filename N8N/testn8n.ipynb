{
 "cells": [
  {
   "cell_type": "code",
   "execution_count": 6,
   "id": "98e0f8ee-2a1d-4926-b69f-c5c3fdec6c3d",
   "metadata": {},
   "outputs": [
    {
     "name": "stdout",
     "output_type": "stream",
     "text": [
      "📨 發送：12955994 → 狀態碼：200 / 回應：{\"message\":\"Workflow was started\"}\n"
     ]
    }
   ],
   "source": [
    "import json\n",
    "import random\n",
    "import requests\n",
    "\n",
    "# 設定 Webhook 目標網址\n",
    "#webhook_url = \"http://localhost:5678/webhook-test/receive-resume\" TEST\n",
    "#webhook_url = \"http://localhost:5678/webhook/receive-resume\"\n",
    "webhook_url = \"http://localhost:5678/webhook-test/receive-resume\"\n",
    "# 讀取 JSON 履歷資料（根據你的實際路徑）\n",
    "with open(\"resume_preview.json\", \"r\", encoding=\"utf-8\") as f:\n",
    "    resumes = json.load(f)\n",
    "\n",
    "# 隨機抽取 10~20 筆履歷\n",
    "#sample_size = random.randint(10, 10)\n",
    "sample_size = random.randint(1, 1)\n",
    "sampled = random.sample(resumes, sample_size)\n",
    "\n",
    "# 發送履歷資料至 Webhook\n",
    "for resume in sampled:\n",
    "    data = {\n",
    "        \"name\": resume[\"file_name\"].replace(\".pdf\", \"\"),\n",
    "        \"email\": f\"{resume['file_name'].replace('.pdf', '').lower()}@example.com\",\n",
    "        \"education\": \"Bachelor of Information Management\",\n",
    "        \"resume_link\": f\"https://example.com/resume/{resume['file_name']}\",\n",
    "        \"category\": resume.get(\"category\", \"\"),             # 加入 category\n",
    "        \"text_excerpt\": resume.get(\"text_excerpt\", \"\")       # 加入文字摘要\n",
    "    }\n",
    "    \n",
    "    response = requests.post(webhook_url, json=data)\n",
    "    print(f\"📨 發送：{data['name']} → 狀態碼：{response.status_code} / 回應：{response.text}\")\n"
   ]
  },
  {
   "cell_type": "code",
   "execution_count": 7,
   "id": "c043d03f-2cc1-4c41-922b-bcfab6f02212",
   "metadata": {},
   "outputs": [
    {
     "name": "stdout",
     "output_type": "stream",
     "text": [
      "C:\\Users\\echo6\\Downloads\\Resume_Dataset\n"
     ]
    }
   ],
   "source": [
    "import os\n",
    "print(os.getcwd())\n"
   ]
  },
  {
   "cell_type": "code",
   "execution_count": 1,
   "id": "56592b17-a983-4c76-a95b-80b3c7ce2312",
   "metadata": {},
   "outputs": [
    {
     "ename": "ModuleNotFoundError",
     "evalue": "No module named 'fitz'",
     "output_type": "error",
     "traceback": [
      "\u001b[1;31m---------------------------------------------------------------------------\u001b[0m",
      "\u001b[1;31mModuleNotFoundError\u001b[0m                       Traceback (most recent call last)",
      "Cell \u001b[1;32mIn[1], line 3\u001b[0m\n\u001b[0;32m      1\u001b[0m \u001b[38;5;28;01mimport\u001b[39;00m \u001b[38;5;21;01mos\u001b[39;00m\n\u001b[0;32m      2\u001b[0m \u001b[38;5;28;01mimport\u001b[39;00m \u001b[38;5;21;01mrandom\u001b[39;00m\n\u001b[1;32m----> 3\u001b[0m \u001b[38;5;28;01mimport\u001b[39;00m \u001b[38;5;21;01mfitz\u001b[39;00m  \u001b[38;5;66;03m# PyMuPDF\u001b[39;00m\n\u001b[0;32m      4\u001b[0m \u001b[38;5;28;01mimport\u001b[39;00m \u001b[38;5;21;01mrequests\u001b[39;00m\n\u001b[0;32m      6\u001b[0m \u001b[38;5;66;03m# 選擇 PDF 資料夾\u001b[39;00m\n",
      "\u001b[1;31mModuleNotFoundError\u001b[0m: No module named 'fitz'"
     ]
    }
   ],
   "source": [
    "import os\n",
    "import random\n",
    "import fitz  # PyMuPDF\n",
    "import requests\n",
    "\n",
    "# 選擇 PDF 資料夾\n",
    "resume_dir = \"./Resume_Dataset/data/data/ENGINEERING\"\n",
    "pdf_files = [f for f in os.listdir(resume_dir) if f.endswith(\".pdf\")]\n",
    "\n",
    "# 隨機選取一份\n",
    "selected_pdf = random.choice(pdf_files)\n",
    "pdf_path = os.path.join(resume_dir, selected_pdf)\n",
    "\n",
    "# 提取 PDF 文字\n",
    "with fitz.open(pdf_path) as doc:\n",
    "    text = \"\"\n",
    "    for page in doc:\n",
    "        text += page.get_text()\n",
    "\n",
    "# 準備 JSON 結構\n",
    "data = {\n",
    "    \"name\": selected_pdf.replace(\".pdf\", \"\"),\n",
    "    \"email\": f\"{selected_pdf.replace('.pdf', '').lower()}@example.com\",\n",
    "    \"education\": \"Bachelor of Engineering\",  # 假設值\n",
    "    \"resume_link\": f\"https://example.com/resume/{selected_pdf}\",\n",
    "    \"category\": \"ENGINEERING\",\n",
    "    \"text_excerpt\": text[:1000]  # 限制前 1000 字\n",
    "}\n",
    "\n",
    "# 發送到 Webhook\n",
    "webhook_url = \"http://localhost:5678/webhook-test/receive-resume\"\n",
    "response = requests.post(webhook_url, json=data)\n",
    "\n",
    "# 顯示回應\n",
    "print(f\"📨 發送：{data['name']} → 狀態碼：{response.status_code} / 回應：{response.text}\")\n"
   ]
  },
  {
   "cell_type": "code",
   "execution_count": null,
   "id": "43c062d0-8c76-497b-863d-aaa33b873d05",
   "metadata": {},
   "outputs": [],
   "source": []
  }
 ],
 "metadata": {
  "kernelspec": {
   "display_name": "Python [conda env:base] *",
   "language": "python",
   "name": "conda-base-py"
  },
  "language_info": {
   "codemirror_mode": {
    "name": "ipython",
    "version": 3
   },
   "file_extension": ".py",
   "mimetype": "text/x-python",
   "name": "python",
   "nbconvert_exporter": "python",
   "pygments_lexer": "ipython3",
   "version": "3.12.4"
  }
 },
 "nbformat": 4,
 "nbformat_minor": 5
}
