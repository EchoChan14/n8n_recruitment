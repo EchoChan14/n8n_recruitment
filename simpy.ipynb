{
 "cells": [
  {
   "cell_type": "code",
   "execution_count": 1,
   "id": "311360ac-3382-4632-877a-bf09f8cdee65",
   "metadata": {},
   "outputs": [
    {
     "name": "stdout",
     "output_type": "stream",
     "text": [
      "Requirement already satisfied: simpy in c:\\users\\echo6\\anaconda3\\lib\\site-packages (4.1.1)\n"
     ]
    }
   ],
   "source": [
    "!pip install simpy\n"
   ]
  },
  {
   "cell_type": "code",
   "execution_count": 1,
   "id": "c8fc2ebf-36b7-4fe4-85da-3ebcb6a87c2e",
   "metadata": {},
   "outputs": [],
   "source": [
    "import simpy\n",
    "import random\n",
    "import pandas as pd\n",
    "import random\n",
    "\n",
    "def simulate_hiring_process(hr_capacity=1, interviewer_capacity=1, num_resumes=30):\n",
    "    results = []\n",
    "\n",
    "    def hiring_process(env, name, hr, interviewer):\n",
    "        arrival_time = env.now\n",
    "        with hr.request() as req:\n",
    "            yield req\n",
    "            yield env.timeout(random.expovariate(1.0 / 20))  # 篩選\n",
    "\n",
    "        with interviewer.request() as req2:\n",
    "            yield req2\n",
    "            yield env.timeout(random.expovariate(1.0 / 30))  # 面試\n",
    "\n",
    "        yield env.timeout(random.expovariate(1.0 / 10))  # 發 offer\n",
    "        total_time = env.now - arrival_time\n",
    "        results.append({\"resume\": name, \"total_process_time\": total_time})\n",
    "\n",
    "    def resume_generator(env, hr, interviewer):\n",
    "        for i in range(num_resumes):\n",
    "            env.process(hiring_process(env, f\"R{i+1}\", hr, interviewer))\n",
    "            yield env.timeout(random.expovariate(1.0 / 10))  # 到件間隔\n",
    "\n",
    "    env = simpy.Environment()\n",
    "    hr = simpy.Resource(env, capacity=hr_capacity)\n",
    "    interviewer = simpy.Resource(env, capacity=interviewer_capacity)\n",
    "\n",
    "    env.process(resume_generator(env, hr, interviewer))\n",
    "    env.run()\n",
    "\n",
    "    return pd.DataFrame(results)\n"
   ]
  },
  {
   "cell_type": "code",
   "execution_count": 2,
   "id": "ad77e058-24f7-4de9-ad8b-a7d34ab606ec",
   "metadata": {},
   "outputs": [
    {
     "data": {
      "text/html": [
       "<div>\n",
       "<style scoped>\n",
       "    .dataframe tbody tr th:only-of-type {\n",
       "        vertical-align: middle;\n",
       "    }\n",
       "\n",
       "    .dataframe tbody tr th {\n",
       "        vertical-align: top;\n",
       "    }\n",
       "\n",
       "    .dataframe thead th {\n",
       "        text-align: right;\n",
       "    }\n",
       "</style>\n",
       "<table border=\"1\" class=\"dataframe\">\n",
       "  <thead>\n",
       "    <tr style=\"text-align: right;\">\n",
       "      <th></th>\n",
       "      <th>total_process_time</th>\n",
       "    </tr>\n",
       "  </thead>\n",
       "  <tbody>\n",
       "    <tr>\n",
       "      <th>count</th>\n",
       "      <td>10.000000</td>\n",
       "    </tr>\n",
       "    <tr>\n",
       "      <th>mean</th>\n",
       "      <td>76.070417</td>\n",
       "    </tr>\n",
       "    <tr>\n",
       "      <th>std</th>\n",
       "      <td>65.826669</td>\n",
       "    </tr>\n",
       "    <tr>\n",
       "      <th>min</th>\n",
       "      <td>12.681161</td>\n",
       "    </tr>\n",
       "    <tr>\n",
       "      <th>25%</th>\n",
       "      <td>33.178371</td>\n",
       "    </tr>\n",
       "    <tr>\n",
       "      <th>50%</th>\n",
       "      <td>52.521538</td>\n",
       "    </tr>\n",
       "    <tr>\n",
       "      <th>75%</th>\n",
       "      <td>88.170039</td>\n",
       "    </tr>\n",
       "    <tr>\n",
       "      <th>max</th>\n",
       "      <td>222.891012</td>\n",
       "    </tr>\n",
       "  </tbody>\n",
       "</table>\n",
       "</div>"
      ],
      "text/plain": [
       "       total_process_time\n",
       "count           10.000000\n",
       "mean            76.070417\n",
       "std             65.826669\n",
       "min             12.681161\n",
       "25%             33.178371\n",
       "50%             52.521538\n",
       "75%             88.170039\n",
       "max            222.891012"
      ]
     },
     "execution_count": 2,
     "metadata": {},
     "output_type": "execute_result"
    }
   ],
   "source": [
    "random.seed(42)\n",
    "df_1_1 = simulate_hiring_process(1, 1, num_resumes=10)\n",
    "df_1_1[\"scenario\"] = \"HR:1, Interviewer:1\"\n",
    "df_1_1.describe()\n"
   ]
  },
  {
   "cell_type": "code",
   "execution_count": 3,
   "id": "d92bbc05-87e8-460e-a316-8ee316d89826",
   "metadata": {},
   "outputs": [
    {
     "name": "stdout",
     "output_type": "stream",
     "text": [
      "HR:2, Interviewer:1\n",
      "       total_process_time\n",
      "count           10.000000\n",
      "mean            71.506997\n",
      "std             58.201148\n",
      "min             12.681161\n",
      "25%             37.514142\n",
      "50%             43.273007\n",
      "75%            107.175774\n",
      "max            199.793081\n",
      "\n",
      "HR:1, Interviewer:2\n",
      "       total_process_time\n",
      "count           10.000000\n",
      "mean            62.300827\n",
      "std             38.550166\n",
      "min             12.681161\n",
      "25%             28.737120\n",
      "50%             61.071478\n",
      "75%             93.038033\n",
      "max            114.180883\n"
     ]
    }
   ],
   "source": [
    "random.seed(42)\n",
    "df_2_1 = simulate_hiring_process(2, 1, num_resumes=10)\n",
    "df_2_1[\"scenario\"] = \"HR:2, Interviewer:1\"\n",
    "\n",
    "random.seed(42)\n",
    "df_1_2 = simulate_hiring_process(1, 2, num_resumes=10)\n",
    "df_1_2[\"scenario\"] = \"HR:1, Interviewer:2\"\n",
    "\n",
    "print(\"HR:2, Interviewer:1\")\n",
    "print(df_2_1.describe())\n",
    "\n",
    "print(\"\\nHR:1, Interviewer:2\")\n",
    "print(df_1_2.describe())\n"
   ]
  }
 ],
 "metadata": {
  "kernelspec": {
   "display_name": "Python [conda env:base] *",
   "language": "python",
   "name": "conda-base-py"
  },
  "language_info": {
   "codemirror_mode": {
    "name": "ipython",
    "version": 3
   },
   "file_extension": ".py",
   "mimetype": "text/x-python",
   "name": "python",
   "nbconvert_exporter": "python",
   "pygments_lexer": "ipython3",
   "version": "3.12.4"
  }
 },
 "nbformat": 4,
 "nbformat_minor": 5
}
